{
 "cells": [
  {
   "cell_type": "code",
   "execution_count": 1,
   "id": "4fed13c7",
   "metadata": {},
   "outputs": [],
   "source": [
    "import pandas as pd\n",
    "import numpy as np\n",
    "import matplotlib.pyplot as plt\n",
    "import seaborn as sns\n",
    "import random"
   ]
  },
  {
   "cell_type": "code",
   "execution_count": 2,
   "id": "09cb354f",
   "metadata": {},
   "outputs": [],
   "source": [
    "df = pd.read_csv('../ML Assignment/DATA/Dataset_NullDropped.csv')"
   ]
  },
  {
   "cell_type": "code",
   "execution_count": 4,
   "id": "0c0a7183",
   "metadata": {},
   "outputs": [],
   "source": [
    "df['diagnosis']=df['diagnosis'].astype('category')"
   ]
  },
  {
   "cell_type": "code",
   "execution_count": 5,
   "id": "642d0486",
   "metadata": {},
   "outputs": [],
   "source": [
    "randlist=[1223, 91, 760, 1096, 670, 715, 373, 69, 538, 455]"
   ]
  },
  {
   "cell_type": "code",
   "execution_count": 6,
   "id": "9e124e92",
   "metadata": {},
   "outputs": [],
   "source": [
    "train_array = [1]*10\n",
    "test_array = [1]*10\n",
    "X_train= [1]*10\n",
    "X_test= [1]*10\n",
    "y_train= [1]*10\n",
    "y_test = [1]*10\n",
    "for i in range(10):\n",
    "    train_array[i] = df.sample(frac=0.67, random_state = randlist[i])\n",
    "    test_array[i] = df.drop(train_array[i].index)\n",
    "    trainData_Split = train_array[i].to_numpy()\n",
    "    testData_Split = test_array[i].to_numpy()\n",
    "    n_samples,n_features = trainData_Split.shape\n",
    "    n_features -= 1\n",
    "    X_train[i] = trainData_Split[:,1:]\n",
    "    y_train[i] = trainData_Split[:,0]\n",
    "    X_test[i] = testData_Split[:,1:]\n",
    "    y_test[i] = testData_Split[:,0]"
   ]
  },
  {
   "cell_type": "code",
   "execution_count": 7,
   "id": "40196f59",
   "metadata": {},
   "outputs": [
    {
     "name": "stdout",
     "output_type": "stream",
     "text": [
      "[[1.150e+01 1.845e+01 7.328e+01 ... 6.544e-02 2.740e-01 6.487e-02]\n",
      " [1.263e+01 2.076e+01 8.215e+01 ... 1.105e-01 2.226e-01 8.486e-02]\n",
      " [1.131e+01 1.904e+01 7.180e+01 ... 6.961e-02 2.400e-01 6.641e-02]\n",
      " ...\n",
      " [2.051e+01 2.781e+01 1.344e+02 ... 1.563e-01 2.437e-01 8.328e-02]\n",
      " [1.149e+01 1.459e+01 7.399e+01 ... 7.431e-02 2.941e-01 9.180e-02]\n",
      " [1.145e+01 2.097e+01 7.381e+01 ... 6.127e-02 2.762e-01 8.851e-02]]\n"
     ]
    }
   ],
   "source": [
    "print(X_train[4])"
   ]
  },
  {
   "cell_type": "code",
   "execution_count": 10,
   "id": "fc28b603",
   "metadata": {},
   "outputs": [],
   "source": [
    "class Perceptron:\n",
    "    def __init__(self, learning_rate = 0.01, num_iters=1000):\n",
    "        self.lr = learning_rate\n",
    "        self.n_iters = num_iters\n",
    "        self.activation = self._step_function\n",
    "        self.weights = None\n",
    "        self.bias = None\n",
    "    \n",
    "    def fit(self, X, y):\n",
    "        n_samples, n_features = X.shape\n",
    "        self.weights = np.zeros(n_features)\n",
    "        self.bias = 0\n",
    "        \n",
    "        for _ in range(self.n_iters):\n",
    "            for index,x_i in enumerate(X):\n",
    "                linear_output = np.dot(x_i, self.weights) + self.bias\n",
    "                y_predicted = self.activation(linear_output)\n",
    "                \n",
    "                update = self.lr * (y[index] - y_predicted)\n",
    "                self.weights += update * x_i\n",
    "                self.bias += update\n",
    "                \n",
    "    \n",
    "    def predict(self, X):\n",
    "        linear_output = np.dot(X, self.weights) + self.bias\n",
    "        y_predicted = self.activation(linear_output)\n",
    "        return y_predicted\n",
    "    \n",
    "    def _step_function(self, x):\n",
    "        return np.where(x>=0, 1, 0)\n",
    "    \n",
    "    def _sigmoid_function(self, x):\n",
    "        sig_x = 1/(1+(np.exp(-x)).astype(float))\n",
    "        return np.where(sig_x>=0.5, 1, 0)"
   ]
  },
  {
   "cell_type": "code",
   "execution_count": 11,
   "id": "80ba7e49",
   "metadata": {},
   "outputs": [],
   "source": [
    "def computeMetrics(y_actual, y_predicted):\n",
    "    tp = np.sum((y_actual == 1) & (y_predicted == 1))\n",
    "    tn = np.sum((y_actual == 0) & (y_predicted == 0))\n",
    "    fp = np.sum((y_actual == 0) & (y_predicted == 1))        \n",
    "    fn = np.sum((y_actual == 1) & (y_predicted == 0)) \n",
    "    accuracy = np.sum(y_actual == y_predicted)/len(y_actual)\n",
    "    precision = tp/np.sum(tp+fp)\n",
    "    recall = tp/np.sum(tp+fn)\n",
    "    return 100*accuracy, precision, recall"
   ]
  },
  {
   "cell_type": "code",
   "execution_count": 12,
   "id": "54298946",
   "metadata": {},
   "outputs": [],
   "source": [
    "p = [1]*10\n",
    "for i in range(10):\n",
    "    p[i] = Perceptron(learning_rate=0.1, num_iters=30000)"
   ]
  },
  {
   "cell_type": "code",
   "execution_count": 13,
   "id": "e6fcdbb0",
   "metadata": {},
   "outputs": [],
   "source": [
    "for i in range(10):\n",
    "    p[i].fit(X_train[i], y_train[i])"
   ]
  },
  {
   "cell_type": "code",
   "execution_count": 14,
   "id": "c8c546ae",
   "metadata": {},
   "outputs": [],
   "source": [
    "predictions = [1]*10\n",
    "for i in range(10):\n",
    "    predictions[i]=p[i].predict(X_test[i])"
   ]
  },
  {
   "cell_type": "code",
   "execution_count": 15,
   "id": "2bb056cf",
   "metadata": {},
   "outputs": [
    {
     "name": "stdout",
     "output_type": "stream",
     "text": [
      "Metrics for test-train split 0\n",
      "91.93548387096774 0.8271604938271605 0.9852941176470589\n",
      "\n",
      "\n",
      "Metrics for test-train split 1\n",
      "93.01075268817203 0.9411764705882353 0.8767123287671232\n",
      "\n",
      "\n",
      "Metrics for test-train split 2\n",
      "91.93548387096774 0.9833333333333333 0.8082191780821918\n",
      "\n",
      "\n",
      "Metrics for test-train split 3\n",
      "90.86021505376344 0.9636363636363636 0.7794117647058824\n",
      "\n",
      "\n",
      "Metrics for test-train split 4\n",
      "92.47311827956989 0.8857142857142857 0.9117647058823529\n",
      "\n",
      "\n",
      "Metrics for test-train split 5\n",
      "93.01075268817203 0.8674698795180723 0.972972972972973\n",
      "\n",
      "\n",
      "Metrics for test-train split 6\n",
      "93.01075268817203 0.9787234042553191 0.7931034482758621\n",
      "\n",
      "\n",
      "Metrics for test-train split 7\n",
      "93.01075268817203 0.8666666666666667 0.9558823529411765\n",
      "\n",
      "\n",
      "Metrics for test-train split 8\n",
      "91.93548387096774 0.8904109589041096 0.9027777777777778\n",
      "\n",
      "\n",
      "Metrics for test-train split 9\n",
      "90.32258064516128 0.8111111111111111 0.9864864864864865\n",
      "\n",
      "\n"
     ]
    }
   ],
   "source": [
    "acc = [1]*10\n",
    "prec = [1]*10\n",
    "rec = [1]*10\n",
    "for i in range(10):\n",
    "    acc[i], prec[i], rec[i] = computeMetrics(y_test[i], predictions[i])\n",
    "    print(\"Metrics for test-train split {}\".format(i))\n",
    "    print(acc[i], prec[i], rec[i])\n",
    "    print(\"\\n\")"
   ]
  },
  {
   "cell_type": "code",
   "execution_count": 16,
   "id": "c8d399b0",
   "metadata": {},
   "outputs": [
    {
     "name": "stdout",
     "output_type": "stream",
     "text": [
      "Mean Accuracy = 92.15053763440861 and Variance of Accuracy = 0.8209041507688714\n",
      "Mean Precision = 0.9015402967554657 and Variance of Precision = 0.0034535361606881096\n",
      "Mean Recall = 0.8972625133538885 and Variance of Recall = 0.0058208507192448345\n"
     ]
    }
   ],
   "source": [
    "acc = np.array(acc)\n",
    "prec = np.array(prec)\n",
    "rec = np.array(rec)\n",
    "\n",
    "print(\"Mean Accuracy = {} and Variance of Accuracy = {}\".format(np.mean(acc), np.var(acc)))\n",
    "print(\"Mean Precision = {} and Variance of Precision = {}\".format(np.mean(prec), np.var(prec)))\n",
    "print(\"Mean Recall = {} and Variance of Recall = {}\".format(np.mean(rec), np.var(rec)))"
   ]
  },
  {
   "cell_type": "code",
   "execution_count": null,
   "id": "7c0b3230",
   "metadata": {},
   "outputs": [],
   "source": []
  }
 ],
 "metadata": {
  "kernelspec": {
   "display_name": "Python 3 (ipykernel)",
   "language": "python",
   "name": "python3"
  },
  "language_info": {
   "codemirror_mode": {
    "name": "ipython",
    "version": 3
   },
   "file_extension": ".py",
   "mimetype": "text/x-python",
   "name": "python",
   "nbconvert_exporter": "python",
   "pygments_lexer": "ipython3",
   "version": "3.9.13"
  }
 },
 "nbformat": 4,
 "nbformat_minor": 5
}
